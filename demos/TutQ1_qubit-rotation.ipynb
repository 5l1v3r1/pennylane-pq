{
 "cells": [
  {
   "cell_type": "markdown",
   "metadata": {},
   "source": [
    "# Tutorial Q1 - Qubit rotation"
   ]
  },
  {
   "cell_type": "markdown",
   "metadata": {},
   "source": [
    "This tutorial demonstrates PennyLane's \"hello-world\" example for qubit-based architectures with the projectq backend. \n",
    "\n",
    "The task is to optimize two rotation gates in order to flip a single qubit from state $|0\\rangle$ to state $|1\\rangle $. "
   ]
  },
  {
   "cell_type": "markdown",
   "metadata": {},
   "source": [
    "## Imports"
   ]
  },
  {
   "cell_type": "markdown",
   "metadata": {},
   "source": [
    "First we need to import pennylane, as well as pennylane's version of numpy. This allows us to automatically compute gradients for functions that manipulate numpy arrays, including quantum functions. We also want to compare two optimizers, basic gradient descent and adagrad."
   ]
  },
  {
   "cell_type": "code",
   "execution_count": 1,
   "metadata": {},
   "outputs": [],
   "source": [
    "import pennylane as qm\n",
    "from pennylane import numpy as np\n",
    "from pennylane.optimize import GradientDescentOptimizer, AdagradOptimizer"
   ]
  },
  {
   "cell_type": "markdown",
   "metadata": {},
   "source": [
    "Next, create a projecq simulator as a \"device\" to run the quantum node. We only need a single quantum wire."
   ]
  },
  {
   "cell_type": "code",
   "execution_count": 2,
   "metadata": {},
   "outputs": [],
   "source": [
    "dev = qm.device('projectq.simulator', wires=1)"
   ]
  },
  {
   "cell_type": "markdown",
   "metadata": {},
   "source": [
    "## Quantum node\n",
    "\n",
    "We define a quantum node called \"circuit\". The decorator `qm.qfunc(dev1)` that saves us to create a quantum node via `circuit = qm.qnode.QNode(circuit, dev)`. "
   ]
  },
  {
   "cell_type": "code",
   "execution_count": 3,
   "metadata": {},
   "outputs": [],
   "source": [
    "@qm.qnode(dev)\n",
    "def circuit(vars):\n",
    "\n",
    "    qm.RX(vars[0], [0])\n",
    "    qm.RY(vars[1], [0])\n",
    "    \n",
    "    return qm.expval.PauliZ(0)"
   ]
  },
  {
   "cell_type": "markdown",
   "metadata": {},
   "source": [
    "This function uses pennylane to run the following quantum circuit:"
   ]
  },
  {
   "cell_type": "markdown",
   "metadata": {},
   "source": [
    "<img src=\"figures/rotation_circuit.png\">"
   ]
  },
  {
   "cell_type": "markdown",
   "metadata": {},
   "source": [
    "Starting with a qubit in the ground state, \n",
    "\n",
    "$$ |0\\rangle = \\begin{pmatrix}1 \\\\ 0 \\end{pmatrix}, $$\n",
    "\n",
    "we first rotate the qubit around the x-axis by \n",
    "$$R_x(v_1) = e^{-iv_1 X /2} = \n",
    "\\begin{pmatrix} \\cos \\frac{v_1}{2} &  -i \\sin \\frac{v_1}{2} \\\\  \n",
    "                -i \\sin \\frac{v_1}{2} &  \\cos \\frac{v_1}{2} \n",
    "\\end{pmatrix}, $$ \n",
    "               \n",
    "and then around the y-axis by \n",
    "$$ R_y(v_2) = e^{-i v_2 Y/2} = \n",
    "\\begin{pmatrix} \\cos \\frac{v_2}{2} &  - \\sin \\frac{v_2}{2} \\\\  \n",
    "                \\sin \\frac{v_2}{2} &  \\cos \\frac{v_2}{2} \n",
    "\\end{pmatrix}. $$ \n",
    "\n",
    "After these operations the qubit is in the state\n",
    "\n",
    "$$ | \\psi \\rangle = R_y(v_1) R_x(v_2) | 0 \\rangle $$\n",
    "\n",
    "Finally, we measure the expectation $ \\langle \\psi | Z | \\psi \\rangle $ of the Pauli-Z operator \n",
    "$$Z = \n",
    "\\begin{pmatrix} 1 &  0 \\\\  \n",
    "                0 & -1 \n",
    "\\end{pmatrix}. $$ \n"
   ]
  },
  {
   "cell_type": "markdown",
   "metadata": {},
   "source": [
    "Depending on the circuit parameters $v_1$ and $v_2$, the output expectation lies between $1$ (if $| \\psi \\rangle = | 0  \\rangle $) and $-1$ (if $| \\psi \\rangle = | 1  \\rangle $)."
   ]
  },
  {
   "cell_type": "markdown",
   "metadata": {},
   "source": [
    "## Objective"
   ]
  },
  {
   "cell_type": "markdown",
   "metadata": {},
   "source": [
    "Next, we define a cost. Here, the cost is directly the expectation of the PauliZ measurement, so that the cost is trivially the output of the circuit."
   ]
  },
  {
   "cell_type": "code",
   "execution_count": 4,
   "metadata": {},
   "outputs": [],
   "source": [
    "def objective(vars):\n",
    "    return circuit(vars)"
   ]
  },
  {
   "cell_type": "markdown",
   "metadata": {},
   "source": [
    "With this objective, the optimization procedure is supposed to find the weights that rotate the qubit from the ground state \n",
    "\n",
    " <img src=\"figures/bloch_before.png\" width=\"250\"> \n",
    " \n",
    " to the excited state\n",
    " \n",
    " <img src=\"figures/bloch_after.png\" width=\"250\">\n",
    " \n",
    " The rotation gates give the optimization landscape a trigonometric shape with four global minima and five global maxima. \n",
    " \n",
    " *Note: To run the following cell you need the matplotlib library.*"
   ]
  },
  {
   "cell_type": "code",
   "execution_count": 5,
   "metadata": {},
   "outputs": [
    {
     "data": {
      "text/plain": [
       "<Figure size 600x400 with 1 Axes>"
      ]
     },
     "metadata": {},
     "output_type": "display_data"
    }
   ],
   "source": [
    "import matplotlib.pyplot as plt\n",
    "from mpl_toolkits.mplot3d import Axes3D\n",
    "from matplotlib import cm\n",
    "from matplotlib.ticker import MaxNLocator\n",
    "\n",
    "\n",
    "fig = plt.figure(figsize = (6, 4))\n",
    "ax = fig.gca(projection='3d')\n",
    "\n",
    "X = np.arange(-3.1, 3.1, 0.2)\n",
    "Y = np.arange(-3.1, 3.1, 0.2)\n",
    "length = len(X)\n",
    "xx, yy = np.meshgrid(X, Y)\n",
    "Z = np.array([[objective([x, y]) for x in X] for y in Y]).reshape(length, length)\n",
    "surf = ax.plot_surface(xx, yy, Z, cmap=cm.coolwarm, antialiased=False)\n",
    "\n",
    "ax.set_xlabel(\"v1\")\n",
    "ax.set_ylabel(\"v2\")\n",
    "ax.zaxis.set_major_locator(MaxNLocator(nbins = 5, prune = 'lower'))\n",
    "\n",
    "plt.show()"
   ]
  },
  {
   "cell_type": "markdown",
   "metadata": {},
   "source": [
    "## Optimization"
   ]
  },
  {
   "cell_type": "markdown",
   "metadata": {},
   "source": [
    "The initial values of the x- and y-rotation parameters $v_1, v_2$ are set to near-zero. This corresponds to identity gates, in other words, the circuit leaves the qubit in the ground state."
   ]
  },
  {
   "cell_type": "code",
   "execution_count": 6,
   "metadata": {},
   "outputs": [],
   "source": [
    "vars_init = np.array([0.011, 0.012])"
   ]
  },
  {
   "cell_type": "markdown",
   "metadata": {},
   "source": [
    "The value of the objective at the initial point is close to $1$."
   ]
  },
  {
   "cell_type": "code",
   "execution_count": 7,
   "metadata": {},
   "outputs": [
    {
     "data": {
      "text/plain": [
       "0.9997395193760918"
      ]
     },
     "execution_count": 7,
     "metadata": {},
     "output_type": "execute_result"
    }
   ],
   "source": [
    "objective(vars_init)"
   ]
  },
  {
   "cell_type": "markdown",
   "metadata": {},
   "source": [
    "We choose a simple Gradient Descent Optimizer and update the weights for 10 steps. The final parameters correspond to a $Z$ expectation of nearly $-1$, which means that the qubit is flipped."
   ]
  },
  {
   "cell_type": "code",
   "execution_count": 13,
   "metadata": {},
   "outputs": [
    {
     "name": "stdout",
     "output_type": "stream",
     "text": [
      "Objective after step     5:  0.9993246\n",
      "Objective after step    10:  0.9982497\n",
      "Objective after step    15:  0.9954699\n",
      "Objective after step    20:  0.9883159\n",
      "Objective after step    25:  0.9701280\n",
      "Objective after step    30:  0.9252888\n",
      "Objective after step    35:  0.8226045\n",
      "Objective after step    40:  0.6218840\n",
      "Objective after step    45:  0.3218872\n",
      "Objective after step    50: -0.0149679\n",
      "Objective after step    55: -0.3477552\n",
      "Objective after step    60: -0.6440175\n",
      "Objective after step    65: -0.8420738\n",
      "Objective after step    70: -0.9388981\n",
      "Objective after step    75: -0.9778339\n",
      "Objective after step    80: -0.9921600\n",
      "Objective after step    85: -0.9972525\n",
      "Objective after step    90: -0.9990403\n",
      "Objective after step    95: -0.9996652\n",
      "Objective after step   100: -0.9998832\n",
      "\n",
      "Optimized rotation angles: [0.00780327 3.12845269]\n"
     ]
    }
   ],
   "source": [
    "gd = GradientDescentOptimizer(0.4)\n",
    "\n",
    "\n",
    "vars = vars_init\n",
    "vars_gd = [vars]\n",
    "\n",
    "for it in range(100):\n",
    "    vars = gd.step(objective, vars)\n",
    "\n",
    "    if (it+1) % 5 == 0:\n",
    "        vars_gd.append(vars)\n",
    "        print('Objective after step {:5d}: {: .7f}'.format(it+1, objective(vars)) )\n",
    "\n",
    "print('\\nOptimized rotation angles: {}'.format(vars))"
   ]
  },
  {
   "cell_type": "markdown",
   "metadata": {},
   "source": [
    "Starting at a different offset, we train another optimizer called Adagrad, which improves on gradient descent.\n",
    "\n",
    "*Note: Adagrad, a many other optimizers, has internal hyperparameters that are stored in the optimizer instance (here: `ada`). To reset these hyperparameters, use `ada.reset()`.*"
   ]
  },
  {
   "cell_type": "code",
   "execution_count": 16,
   "metadata": {},
   "outputs": [
    {
     "name": "stdout",
     "output_type": "stream",
     "text": [
      "Objective after step     5:  0.0121498\n",
      "Objective after step    10: -0.0010478\n",
      "Objective after step    15: -0.0628869\n",
      "Objective after step    20: -0.7333553\n",
      "Objective after step    25: -0.9874048\n",
      "Objective after step    30: -0.9995463\n",
      "Objective after step    35: -0.9999838\n",
      "Objective after step    40: -0.9999994\n",
      "Objective after step    45: -1.0000000\n",
      "Objective after step    50: -1.0000000\n",
      "Objective after step    55: -1.0000000\n",
      "Objective after step    60: -1.0000000\n",
      "Objective after step    65: -1.0000000\n",
      "Objective after step    70: -1.0000000\n",
      "Objective after step    75: -1.0000000\n",
      "Objective after step    80: -1.0000000\n",
      "Objective after step    85: -1.0000000\n",
      "Objective after step    90: -1.0000000\n",
      "Objective after step    95: -1.0000000\n",
      "Objective after step   100: -1.0000000\n",
      "\n",
      "Optimized rotation angles: [-9.98753488e-13  3.14159265e+00]\n"
     ]
    }
   ],
   "source": [
    "ada = AdagradOptimizer(0.4)\n",
    "\n",
    "vars = np.array([-0.011, 0.012])\n",
    "vars_ada = [vars]\n",
    "\n",
    "for it in range(100):\n",
    "    vars = ada.step(objective, vars)\n",
    "    \n",
    "    if (it+1) % 5 == 0:\n",
    "        vars_ada.append(vars)\n",
    "        print('Objective after step {:5d}: {: .7f}'.format(it+1, objective(vars)) )\n",
    "\n",
    "print('\\nOptimized rotation angles: {}'.format(vars))"
   ]
  },
  {
   "cell_type": "markdown",
   "metadata": {},
   "source": [
    "Adagrad and gradient descent find the same minimum, and, since neither has information on second order derivatives, both take a detour through a saddle point. However, Adagrad takes considerably fewer steps."
   ]
  },
  {
   "cell_type": "code",
   "execution_count": 17,
   "metadata": {},
   "outputs": [
    {
     "data": {
      "image/png": "[encoded data removed]",
      "text/plain": [
       "<Figure size 432x288 with 1 Axes>"
      ]
     },
     "metadata": {},
     "output_type": "display_data"
    }
   ],
   "source": [
    "fig = plt.figure(figsize = (6, 4))\n",
    "ax = fig.gca(projection='3d')\n",
    "\n",
    "X = np.linspace(-3, 1.57, 50)\n",
    "Y = np.linspace(-3, 3, 50)\n",
    "xx, yy = np.meshgrid(X, Y)\n",
    "Z = np.array([[objective([x, y]) for x in X] for y in Y]).reshape(len(Y), len(X))\n",
    "surf = ax.plot_surface(xx, yy, Z, cmap=cm.coolwarm, antialiased=False)\n",
    "\n",
    "path_z = [objective(vars)+1e-8 for vars in vars_gd]\n",
    "path_x = [v[0] for v in vars_gd]\n",
    "path_y = [v[1] for v in vars_gd]\n",
    "ax.plot(path_x, path_y, path_z, c='green', marker='.', label=\"graddesc\")\n",
    "\n",
    "path_z = [objective(vars)+1e-8 for vars in vars_ada]\n",
    "path_x = [v[0] for v in vars_ada]\n",
    "path_y = [v[1] for v in vars_ada]\n",
    "ax.plot(path_x, path_y, path_z, c='purple', marker='.', label=\"adagrad\")\n",
    "\n",
    "ax.set_xlabel(\"v1\")\n",
    "ax.set_ylabel(\"v2\")\n",
    "ax.zaxis.set_major_locator(MaxNLocator(nbins = 5, prune = 'lower'))\n",
    "\n",
    "plt.legend()\n",
    "plt.show()"
   ]
  },
  {
   "cell_type": "markdown",
   "metadata": {},
   "source": [
    "### Choosing initial variables"
   ]
  },
  {
   "cell_type": "markdown",
   "metadata": {},
   "source": [
    "The variables are best randomly initialized with near-zero values. To show why constant initializations can go wrong, consider starting at exactly zero. "
   ]
  },
  {
   "cell_type": "code",
   "execution_count": 11,
   "metadata": {},
   "outputs": [
    {
     "name": "stdout",
     "output_type": "stream",
     "text": [
      "Objective after step     5:  1.0000000\n",
      "Objective after step    10:  1.0000000\n",
      "Objective after step    15:  1.0000000\n",
      "Objective after step    20:  1.0000000\n",
      "Objective after step    25:  1.0000000\n",
      "Objective after step    30:  1.0000000\n",
      "Objective after step    35:  1.0000000\n",
      "Objective after step    40:  1.0000000\n",
      "Objective after step    45:  1.0000000\n",
      "Objective after step    50:  1.0000000\n",
      "Objective after step    55:  1.0000000\n",
      "Objective after step    60:  1.0000000\n",
      "Objective after step    65:  1.0000000\n",
      "Objective after step    70:  1.0000000\n",
      "Objective after step    75:  1.0000000\n",
      "Objective after step    80:  1.0000000\n",
      "Objective after step    85:  1.0000000\n",
      "Objective after step    90:  1.0000000\n",
      "Objective after step    95:  1.0000000\n",
      "Objective after step   100:  1.0000000\n"
     ]
    }
   ],
   "source": [
    "vars = np.array([0., 0.])\n",
    "\n",
    "for it in range(100):\n",
    "    vars = gd.step(objective, vars)\n",
    "    if (it+1) % 5 == 0:\n",
    "        print('Objective after step {:5d}: {: .7f}'.format(it+1, objective(vars)) )"
   ]
  },
  {
   "cell_type": "markdown",
   "metadata": {},
   "source": [
    "The model is \"stuck\" in the maximum of the cost function where the gradient vanishes.\n",
    "\n",
    "Also, symmetric initalizations can go wrong:"
   ]
  },
  {
   "cell_type": "code",
   "execution_count": 18,
   "metadata": {},
   "outputs": [
    {
     "name": "stdout",
     "output_type": "stream",
     "text": [
      "Objective after step     5:  0.9745180 | qnode gradient: [-0.15758378 -0.15758378]\n",
      "Objective after step    10:  0.9362718 | qnode gradient: [-0.24426814 -0.24426814]\n",
      "Objective after step    15:  0.8488165 | qnode gradient: [-0.35822769 -0.35822769]\n",
      "Objective after step    20:  0.6796313 | qnode gradient: [-0.46661825 -0.46661825]\n",
      "Objective after step    25:  0.4400459 | qnode gradient: [-0.49639249 -0.49639249]\n",
      "Objective after step    30:  0.2212797 | qnode gradient: [-0.41510838 -0.41510838]\n",
      "Objective after step    35:  0.0915694 | qnode gradient: [-0.28841715 -0.28841715]\n",
      "Objective after step    40:  0.0341801 | qnode gradient: [-0.18169151 -0.18169151]\n",
      "Objective after step    45:  0.0122198 | qnode gradient: [-0.10986574 -0.10986574]\n",
      "Objective after step    50:  0.0042988 | qnode gradient: [-0.06542436 -0.06542436]\n",
      "Objective after step    55:  0.0015036 | qnode gradient: [-0.03874702 -0.03874702]\n",
      "Objective after step    60:  0.0005248 | qnode gradient: [-0.02290343 -0.02290343]\n",
      "Objective after step    65:  0.0001831 | qnode gradient: [-0.01352913 -0.01352913]\n",
      "Objective after step    70:  0.0000638 | qnode gradient: [-0.00798982 -0.00798982]\n",
      "Objective after step    75:  0.0000223 | qnode gradient: [-0.00471812 -0.00471812]\n",
      "Objective after step    80:  0.0000078 | qnode gradient: [-0.00278604 -0.00278604]\n",
      "Objective after step    85:  0.0000027 | qnode gradient: [-0.00164514 -0.00164514]\n",
      "Objective after step    90:  0.0000009 | qnode gradient: [-0.00097144 -0.00097144]\n",
      "Objective after step    95:  0.0000003 | qnode gradient: [-0.00057363 -0.00057363]\n",
      "Objective after step   100:  0.0000001 | qnode gradient: [-0.00033872 -0.00033872]\n"
     ]
    }
   ],
   "source": [
    "vars = np.array([0.1, 0.1])\n",
    "\n",
    "for it in range(100):\n",
    "    vars = gd.step(objective, vars)\n",
    "    if (it+1) % 5 == 0:\n",
    "        print('Objective after step {:5d}: {: .7f} | qnode gradient: {}'.format(it+1, objective(vars),  qm.grad(circuit)(vars)) )"
   ]
  },
  {
   "cell_type": "markdown",
   "metadata": {},
   "source": [
    "Here, gradient descent gets stuck in a saddle point. As we can see from the output, the gradient of the quantum node stays symmetric. *Note: This does not happen with the `default.qubit` backend*"
   ]
  },
  {
   "cell_type": "code",
   "execution_count": null,
   "metadata": {},
   "outputs": [],
   "source": []
  }
 ],
 "metadata": {
  "kernelspec": {
   "display_name": "Python 3",
   "language": "python",
   "name": "python3"
  },
  "language_info": {
   "codemirror_mode": {
    "name": "ipython",
    "version": 3
   },
   "file_extension": ".py",
   "mimetype": "text/x-python",
   "name": "python",
   "nbconvert_exporter": "python",
   "pygments_lexer": "ipython3",
   "version": "3.6.6"
  }
 },
 "nbformat": 4,
 "nbformat_minor": 2
}
