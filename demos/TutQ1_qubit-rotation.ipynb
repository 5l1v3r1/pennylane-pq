{
 "cells": [
  {
   "cell_type": "markdown",
   "metadata": {},
   "source": [
    "# Tutorial Q1 - Qubit rotation"
   ]
  },
  {
   "cell_type": "markdown",
   "metadata": {},
   "source": [
    "This tutorial demonstrates PennyLane's \"hello-world\" example for qubit-based architectures with the projectq backend. \n",
    "\n",
    "The task is to optimize two rotation gates in order to flip a single qubit from state $|0\\rangle$ to state $|1\\rangle $. "
   ]
  },
  {
   "cell_type": "markdown",
   "metadata": {},
   "source": [
    "## Imports"
   ]
  },
  {
   "cell_type": "markdown",
   "metadata": {},
   "source": [
    "First we need to import openqml, as well as openqml's version of numpy. This allows us to automatically compute gradients for functions that manipulate numpy arrays, including quantum functions. We also want to compare two optimizers, basic gradient descent and adagrad."
   ]
  },
  {
   "cell_type": "code",
   "execution_count": 1,
   "metadata": {},
   "outputs": [],
   "source": [
    "import openqml as qm\n",
    "from openqml import numpy as np\n",
    "from openqml.optimize import GradientDescentOptimizer, AdagradOptimizer"
   ]
  },
  {
   "cell_type": "markdown",
   "metadata": {},
   "source": [
    "Next, create a projecq simulator as a \"device\" to run the quantum node. We only need a single quantum wire."
   ]
  },
  {
   "cell_type": "code",
   "execution_count": 2,
   "metadata": {},
   "outputs": [],
   "source": [
    "dev = qm.device('projectq.simulator', wires=1)"
   ]q
  },
  {
   "cell_type": "markdown",
   "metadata": {},
   "source": [
    "## Quantum node\n",
    "\n",
    "We define a quantum node called \"circuit\". The decorator `qm.qnode(dev1)` that saves us to create a quantum node via `circuit = qm.qnode.QNode(circuit, dev)`. "
   ]
  },
  {
   "cell_type": "code",
   "execution_count": 3,
   "metadata": {},
   "outputs": [],
   "source": [
    "@qm.qnode(dev)\n",
    "def circuit(vars):\n",
    "\n",
    "    qm.RX(vars[0], [0])\n",
    "    qm.RY(vars[1], [0])\n",
    "    \n",
    "    return qm.expval.PauliZ(0)"
   ]
  },
  {
   "cell_type": "markdown",
   "metadata": {},
   "source": [
    "This function uses openqml to run the following quantum circuit:"
   ]
  },
  {
   "cell_type": "markdown",
   "metadata": {},
   "source": [
    "<img src=\"figures/rotation_circuit.png\">"
   ]
  },
  {
   "cell_type": "markdown",
   "metadata": {},
   "source": [
    "Starting with a qubit in the ground state, \n",
    "\n",
    "$$ |0\\rangle = \\begin{pmatrix}1 \\\\ 0 \\end{pmatrix}, $$\n",
    "\n",
    "we first rotate the qubit around the x-axis by \n",
    "$$R_x(v_1) = e^{-iv_1 X /2} = \n",
    "\\begin{pmatrix} \\cos \\frac{v_1}{2} &  -i \\sin \\frac{v_1}{2} \\\\  \n",
    "                -i \\sin \\frac{v_1}{2} &  \\cos \\frac{v_1}{2} \n",
    "\\end{pmatrix}, $$ \n",
    "               \n",
    "and then around the y-axis by \n",
    "$$ R_y(v_2) = e^{-i v_2 Y/2} = \n",
    "\\begin{pmatrix} \\cos \\frac{v_2}{2} &  - \\sin \\frac{v_2}{2} \\\\  \n",
    "                \\sin \\frac{v_2}{2} &  \\cos \\frac{v_2}{2} \n",
    "\\end{pmatrix}. $$ \n",
    "\n",
    "After these operations the qubit is in the state\n",
    "\n",
    "$$ | \\psi \\rangle = R_y(v_1) R_x(v_2) | 0 \\rangle $$\n",
    "\n",
    "Finally, we measure the expectation $ \\langle \\psi | Z | \\psi \\rangle $ of the Pauli-Z operator \n",
    "$$Z = \n",
    "\\begin{pmatrix} 1 &  0 \\\\  \n",
    "                0 & -1 \n",
    "\\end{pmatrix}. $$ \n"
   ]
  },
  {
   "cell_type": "markdown",
   "metadata": {},
   "source": [
    "Depending on the circuit parameters $v_1$ and $v_2$, the output expectation lies between $1$ (if $| \\psi \\rangle = | 0  \\rangle $) and $-1$ (if $| \\psi \\rangle = | 1  \\rangle $)."
   ]
  },
  {
   "cell_type": "markdown",
   "metadata": {},
   "source": [
    "## Objective"
   ]
  },
  {
   "cell_type": "markdown",
   "metadata": {},
   "source": [
    "Next, we define a cost. Here, the cost is directly the expectation of the PauliZ measurement, so that the cost is trivially the output of the circuit."
   ]
  },
  {
   "cell_type": "code",
   "execution_count": 4,
   "metadata": {},
   "outputs": [],
   "source": [
    "def objective(vars):\n",
    "    return circuit(vars)"
   ]
  },
  {
   "cell_type": "markdown",
   "metadata": {},
   "source": [
    "With this objective, the optimization procedure is supposed to find the weights that rotate the qubit from the ground state \n",
    "\n",
    " <img src=\"figures/bloch_before.png\" width=\"250\"> \n",
    " \n",
    " to the excited state\n",
    " \n",
    " <img src=\"figures/bloch_after.png\" width=\"250\">\n",
    " \n",
    " The rotation gates give the optimization landscape a trigonometric shape with four global minima and five global maxima. \n",
    " \n",
    " *Note: To run the following cell you need the matplotlib library.*"
   ]
  },
  {
   "cell_type": "code",
   "execution_count": 5,
   "metadata": {},
   "outputs": [
    {
     "data": {
      "text/plain": [
       "<Figure size 600x400 with 1 Axes>"
      ]
     },
     "metadata": {},
     "output_type": "display_data"
    }
   ],
   "source": [
    "import matplotlib.pyplot as plt\n",
    "from mpl_toolkits.mplot3d import Axes3D\n",
    "from matplotlib import cm\n",
    "from matplotlib.ticker import MaxNLocator\n",
    "\n",
    "\n",
    "fig = plt.figure(figsize = (6, 4))\n",
    "ax = fig.gca(projection='3d')\n",
    "\n",
    "X = np.arange(-3.1, 3.1, 0.2)\n",
    "Y = np.arange(-3.1, 3.1, 0.2)\n",
    "length = len(X)\n",
    "xx, yy = np.meshgrid(X, Y)\n",
    "Z = np.array([[objective([x, y]) for x in X] for y in Y]).reshape(length, length)\n",
    "surf = ax.plot_surface(xx, yy, Z, cmap=cm.coolwarm, antialiased=False)\n",
    "\n",
    "ax.set_xlabel(\"v1\")\n",
    "ax.set_ylabel(\"v2\")\n",
    "ax.zaxis.set_major_locator(MaxNLocator(nbins = 5, prune = 'lower'))\n",
    "\n",
    "plt.show()"
   ]
  },
  {
   "cell_type": "markdown",
   "metadata": {},
   "source": [
    "## Optimization"
   ]
  },
  {
   "cell_type": "markdown",
   "metadata": {},
   "source": [
    "The initial values of the x- and y-rotation parameters $w_1, w_2$ are set to near-zero. This corresponds to identity gates, in other words, the circuit leaves the qubit in the ground state. *Note that at zero exactly the gradient vanishes and the optimization algorithm will not descent from the maximum.*"
   ]
  },
  {
   "cell_type": "code",
   "execution_count": 6,
   "metadata": {},
   "outputs": [],
   "source": [
    "vars_init = np.array([0.001, 0.001])"
   ]
  },
  {
   "cell_type": "markdown",
   "metadata": {},
   "source": [
    "The value of the objective at the initial point is close to $1$."
   ]
  },
  {
   "cell_type": "code",
   "execution_count": 7,
   "metadata": {},
   "outputs": [
    {
     "data": {
      "text/plain": [
       "0.9999990000003336"
      ]
     },
     "execution_count": 7,
     "metadata": {},
     "output_type": "execute_result"
    }
   ],
   "source": [
    "objective(vars_init)"
   ]
  },
  {
   "cell_type": "markdown",
   "metadata": {},
   "source": [
    "We choose a simple Gradient Descent Optimizer and update the weights for 10 steps. The final parameters correspond to a $Z$ expectation of nearly $-1$, which means that the qubit is flipped."
   ]
  },
  {
   "cell_type": "code",
   "execution_count": 8,
   "metadata": {},
   "outputs": [
    {
     "name": "stdout",
     "output_type": "stream",
     "text": [
      "Objective after step     5:  0.9999423\n",
      "Objective after step    10:  0.9966823\n",
      "Objective after step    15:  0.8310524\n",
      "Objective after step    20:  0.0203430\n",
      "Objective after step    25:  0.0000207\n",
      "Objective after step    30:  0.0000000\n",
      "Objective after step    35:  0.0000000\n",
      "Objective after step    40:  0.0000000\n",
      "Objective after step    45:  0.0000000\n",
      "Objective after step    50: -0.0000000\n",
      "Objective after step    55: -0.0000000\n",
      "Objective after step    60:  0.0000000\n",
      "Objective after step    65: -0.0000000\n",
      "Objective after step    70:  0.0000000\n",
      "Objective after step    75: -0.0000000\n",
      "Objective after step    80:  0.0000000\n",
      "Objective after step    85:  0.0000000\n",
      "Objective after step    90:  0.0000000\n",
      "Objective after step    95:  0.0000000\n",
      "Objective after step   100:  0.0000000\n",
      "\n",
      "Optimized rotation angles: [1.57079633 1.57079633]\n"
     ]
    }
   ],
   "source": [
    "o = GradientDescentOptimizer(0.5)\n",
    "\n",
    "vars_gd = [vars_init]\n",
    "vars = vars_init\n",
    "for it in range(100):\n",
    "    vars = o.step(objective, vars)\n",
    "\n",
    "    vars_gd.append(vars)\n",
    "    if (it+1) % 5 == 0:\n",
    "        print('Objective after step {:5d}: {: .7f}'.format(it+1, objective(vars)) )\n",
    "\n",
    "print('\\nOptimized rotation angles: {}'.format(vars))"
   ]
  },
  {
   "cell_type": "markdown",
   "metadata": {},
   "source": [
    "Starting at a different offset, we train another optimizer called Adagrad, which improves on gradient descent."
   ]
  },
  {
   "cell_type": "code",
   "execution_count": 9,
   "metadata": {},
   "outputs": [
    {
     "name": "stdout",
     "output_type": "stream",
     "text": [
      "Objective after step     5:  0.0001482\n",
      "Objective after step    10:  0.0000000\n",
      "Objective after step    15:  0.0000000\n",
      "Objective after step    20:  0.0000000\n",
      "Objective after step    25: -0.0000000\n",
      "Objective after step    30: -0.0000000\n",
      "Objective after step    35: -0.0000000\n",
      "Objective after step    40: -0.0000002\n",
      "Objective after step    45: -0.0000712\n",
      "Objective after step    50: -0.0204541\n",
      "Objective after step    55: -0.8180378\n",
      "Objective after step    60: -0.9990982\n",
      "Objective after step    65: -0.9999966\n",
      "Objective after step    70: -1.0000000\n",
      "Objective after step    75: -1.0000000\n",
      "Objective after step    80: -1.0000000\n",
      "Objective after step    85: -1.0000000\n",
      "Objective after step    90: -1.0000000\n",
      "Objective after step    95: -1.0000000\n",
      "Objective after step   100: -1.0000000\n",
      "\n",
      "Optimized rotation angles: [ 5.94923924e-12 -3.14159265e+00]\n"
     ]
    }
   ],
   "source": [
    "vars_init = np.array([0.001, -0.001])\n",
    "\n",
    "o = AdagradOptimizer(0.5)\n",
    "\n",
    "vars_ada = [vars_init]\n",
    "vars = vars_init\n",
    "for it in range(100):\n",
    "    vars = o.step(objective, vars)\n",
    "    \n",
    "    vars_ada.append(vars)\n",
    "    if (it+1) % 5 == 0:\n",
    "        print('Objective after step {:5d}: {: .7f}'.format(it+1, objective(vars)) )\n",
    "\n",
    "print('\\nOptimized rotation angles: {}'.format(vars))"
   ]
  },
  {
   "cell_type": "markdown",
   "metadata": {},
   "source": [
    "Adagrad and gradient descent find the same minimum, and, since neither has information on second order derivatives, both take a detour through a saddle point. However, Adagrad takes considerably fewer steps."
   ]
  },
  {
   "cell_type": "code",
   "execution_count": 10,
   "metadata": {},
   "outputs": [
    {
     "data": {
      "image/png": "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\n",
      "text/plain": [
       "<Figure size 432x288 with 1 Axes>"
      ]
     },
     "metadata": {},
     "output_type": "display_data"
    }
   ],
   "source": [
    "fig = plt.figure(figsize = (6, 4))\n",
    "ax = fig.gca(projection='3d')\n",
    "\n",
    "X = np.linspace(-3, 1.57, 50)\n",
    "Y = np.linspace(-3, 3, 50)\n",
    "xx, yy = np.meshgrid(X, Y)\n",
    "Z = np.array([[objective([x, y]) for x in X] for y in Y]).reshape(len(Y), len(X))\n",
    "surf = ax.plot_surface(xx, yy, Z, cmap=cm.coolwarm, antialiased=False)\n",
    "\n",
    "path_z = [objective(vars)+1e-8 for vars in vars_gd]\n",
    "path_x = [v[0] for v in vars_gd]\n",
    "path_y = [v[1] for v in vars_gd]\n",
    "ax.plot(path_x, path_y, path_z, c='green', marker='.', label=\"graddesc\")\n",
    "\n",
    "path_z = [objective(vars)+1e-8 for vars in vars_ada]\n",
    "path_x = [v[0] for v in vars_ada]\n",
    "path_y = [v[1] for v in vars_ada]\n",
    "ax.plot(path_x, path_y, path_z, c='purple', marker='.', label=\"adagrad\")\n",
    "\n",
    "ax.set_xlabel(\"v1\")\n",
    "ax.set_ylabel(\"v2\")\n",
    "ax.zaxis.set_major_locator(MaxNLocator(nbins = 5, prune = 'lower'))\n",
    "\n",
    "plt.legend()\n",
    "plt.show()"
   ]
  },
  {
   "cell_type": "code",
   "execution_count": null,
   "metadata": {},
   "outputs": [],
   "source": []
  }
 ],
 "metadata": {
  "kernelspec": {
   "display_name": "Python 3",
   "language": "python",
   "name": "python3"
  },
  "language_info": {
   "codemirror_mode": {
    "name": "ipython",
    "version": 3
   },
   "file_extension": ".py",
   "mimetype": "text/x-python",
   "name": "python",
   "nbconvert_exporter": "python",
   "pygments_lexer": "ipython3",
   "version": "3.6.6"
  }
 },
 "nbformat": 4,
 "nbformat_minor": 2
}
